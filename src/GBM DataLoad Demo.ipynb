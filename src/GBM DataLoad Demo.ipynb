{
 "metadata": {
  "name": ""
 },
 "nbformat": 3,
 "nbformat_minor": 0,
 "worksheets": [
  {
   "cells": [
    {
     "cell_type": "code",
     "collapsed": false,
     "input": [
      "import nibabel #Library for reading NIFTI images\n",
      "import os\n",
      "%matplotlib inline"
     ],
     "language": "python",
     "metadata": {},
     "outputs": [],
     "prompt_number": 7
    },
    {
     "cell_type": "code",
     "collapsed": false,
     "input": [
      "sample_mask = '../data/DJ_RECURATED/TCGA-02-0003/TCGA-02-0003_1997-06-08_PREOP/AXIAL-T1-POST-GD_TCGA-02-0003_TCGA-02-0003_PREOP_SCAN13-MASK.nii.gz'\n",
      "sample_bg = '../data/DJ_RECURATED/TCGA-02-0003/TCGA-02-0003_1997-06-08_PREOP/BACKGROUND_IMAGES/AXIAL-T1-POST-GD_TCGA-02-0003_TCGA-02-0003_PREOP_SCAN13.nii.gz'\n",
      "\n",
      "mask_mtx = nibabel.load(sample_mask)\n",
      "bg_mtx = nibabel.load(sample_bg)"
     ],
     "language": "python",
     "metadata": {},
     "outputs": [],
     "prompt_number": 4
    },
    {
     "cell_type": "code",
     "collapsed": false,
     "input": [
      "print mask_mtx.shape\n",
      "print bg_mtx.shape  ## The image is 256x256 in place with 25 z slicses"
     ],
     "language": "python",
     "metadata": {},
     "outputs": [
      {
       "output_type": "stream",
       "stream": "stdout",
       "text": [
        "(256, 256, 25)\n",
        "(256, 256, 25)\n"
       ]
      }
     ],
     "prompt_number": 6
    },
    {
     "cell_type": "code",
     "collapsed": false,
     "input": [],
     "language": "python",
     "metadata": {},
     "outputs": []
    }
   ],
   "metadata": {}
  }
 ]
}